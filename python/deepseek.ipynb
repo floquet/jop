{
 "cells": [
  {
   "cell_type": "markdown",
   "id": "55ea3f4e-0f9b-49c0-b291-1c28dd674ae2",
   "metadata": {},
   "source": [
    "## Provenance\n",
    "*Execution environment documentation*"
   ]
  },
  {
   "cell_type": "code",
   "execution_count": 5,
   "id": "098006cd-3d28-42c0-94ab-a6d563066935",
   "metadata": {},
   "outputs": [
    {
     "name": "stdout",
     "output_type": "stream",
     "text": [
      "=== BASIC PROVENANCE ===\n",
      "Timestamp: 2025-06-18 16:04:01\n",
      "User: dantopa\n",
      "Notebook location: /Users/dantopa/repos-xiuhcoatl/github/jop/python\n",
      "\n",
      "=== SYSTEM ===\n",
      "OS: Darwin 24.5.0\n",
      "Machine: x86_64\n",
      "Processor: i386\n",
      "\n",
      "=== PYTHON ===\n",
      "• Version: 3.12.11\n",
      "• Executable: /opt/local/Library/Frameworks/Python.framework/Versions/3.12/bin/python3.12\n",
      "• Implementation: CPython\n"
     ]
    }
   ],
   "source": [
    "import os\n",
    "import sys\n",
    "import platform\n",
    "import datetime\n",
    "from pathlib import Path\n",
    "\n",
    "# Get basic info\n",
    "notebook_path = Path.cwd()\n",
    "python_exec = sys.executable\n",
    "current_time = datetime.datetime.now().strftime(\"%Y-%m-%d %H:%M:%S\")\n",
    "user = os.getlogin()\n",
    "\n",
    "# Print raw output\n",
    "print(\"=== BASIC PROVENANCE ===\")\n",
    "print(f\"Timestamp: {current_time}\")\n",
    "print(f\"User: {user}\")\n",
    "print(f\"Notebook location: {notebook_path}\")\n",
    "\n",
    "print(\"\\n=== SYSTEM ===\")\n",
    "print(f\"OS: {platform.system()} {platform.release()}\")\n",
    "print(f\"Machine: {platform.machine()}\")\n",
    "print(f\"Processor: {platform.processor()}\")\n",
    "\n",
    "print(\"\\n=== PYTHON ===\")\n",
    "print(f\"• Version: {platform.python_version()}\")\n",
    "print(f\"• Executable: {sys.executable}\")\n",
    "print(f\"• Implementation: {platform.python_implementation()}\")"
   ]
  },
  {
   "cell_type": "markdown",
   "id": "4af15afb-9df6-4e88-b474-a289fe286d6c",
   "metadata": {},
   "source": [
    "# Satellite Data Acquisition Guide\n",
    "\n",
    "## Step 1: Locate the Data Source\n",
    "1. Visit the RBSP-ECT data portal:  \n",
    "   [https://rbsp-ect.newmexicoconsortium.org/rbsp_ect.php](https://rbsp-ect.newmexicoconsortium.org/rbsp_ect.php)\n",
    "\n",
    "2. Click on **RBSP-A** spacecraft data:  \n",
    "   [Direct link](https://rbsp-ect.newmexicocortium.org/data_pub/rbspa/ECT/level2/)\n",
    "\n",
    "## Step 2: Select Year\n",
    "Choose 2018 data:  \n",
    "[https://rbsp-ect.newmexicoconsortium.org/data_pub/rbspa/ECT/level2/2018/](https://rbsp-ect.newmexicoconsortium.org/data_pub/rbspa/ECT/level2/2018/)\n",
    "\n",
    "## Step 3: Download Sample File\n",
    "Download this sample CDF file (January 1, 2018):  \n",
    "[rbspa_ect-elec-L2_20180101_v2.1.0.cdf](https://rbsp-ect.newmexicoconsortium.org/data_pub/rbspa/ECT/level2/2018/rbspa_ect-elec-L2_20180101_v2.1.0.cdf)\n",
    "\n",
    "## Where to Save\n",
    "Save the file in your notebook's data directory:  \n",
    "`/path/to/your/notebook/data/`  \n",
    "*(Use the exact path shown in your Provenance output)*\n",
    "\n",
    "## Advanced: Download with wget\n",
    "\n",
    "    wget -P data/ https://rbsp-ect.newmexicoconsortium.org/data_pub/rbspa/ECT/level2/2018/rbspa_ect-elec-L2_20180101_v2.1.0.cdf"
   ]
  },
  {
   "cell_type": "markdown",
   "id": "543a6e2f-89e2-4e8f-8825-6ea50fd37f58",
   "metadata": {},
   "source": [
    "Set the path to the source CDF file using a relative path from your notebook root:"
   ]
  },
  {
   "cell_type": "code",
   "execution_count": 10,
   "id": "8ede66cf-1f3d-4b73-a482-bf435301fcce",
   "metadata": {},
   "outputs": [
    {
     "name": "stdout",
     "output_type": "stream",
     "text": [
      "cdf source file on local machine =  /Users/dantopa/Mathematica_files/io/projects/hii-tsd/satellite/ecs/rbsp/data/rbspa_rel03_ect-rept-sci-L3_20170207_v5.1.0.cdf\n"
     ]
    }
   ],
   "source": [
    "# 1. Point to data\n",
    "from pathlib import Path\n",
    "\n",
    "dir_data = Path(\"/Users/dantopa/Mathematica_files/io/projects/hii-tsd/satellite/ecs/rbsp/data\")\n",
    "file_name_left = \"rbspa_rel03_ect-rept-sci-L3_\"\n",
    "file_name_right = \".cdf\"\n",
    "\n",
    "# specific days\n",
    "days = [\n",
    "    \"20170207_v5.1.0\",\n",
    "    \"20170425_v5.5.0\",\n",
    "    \"20170620_v5.3.0\",\n",
    "    \"20170917_v5.3.0\",\n",
    "    \"20171214_v5.3.0\"\n",
    "]\n",
    "\n",
    "# 2. Pick one\n",
    "my_file = dir_data / f\"{file_name_left}{days[0]}{file_name_right}\"\n",
    "print(\"cdf source file on local machine = \",my_file)"
   ]
  },
  {
   "cell_type": "markdown",
   "id": "46d058cc-11a1-4c7e-92a8-9392f5d075fa",
   "metadata": {},
   "source": [
    "# CDF File Exploration Notebook\n",
    "\n",
    "This notebook uses [`cdflib`](https://cdflib.readthedocs.io/) to explore NASA Common Data Format (.CDF) files.\n",
    "\n",
    "## Features\n",
    "\n",
    "- Lists all variables (`rVariables` and `zVariables`)\n",
    "- Prints global and variable-specific attributes\n",
    "- Shows data previews with shape and value summaries\n",
    "\n",
    "Use this to inspect space physics data easily in Python.\n",
    "\n",
    "---\n",
    "\n",
    "## How It Works\n",
    "\n",
    "We open the CDF using:\n",
    "\n",
    "```python\n",
    "cdf = cdflib.CDF(my_file)\n"
   ]
  }
 ],
 "metadata": {
  "kernelspec": {
   "display_name": "Python 3 (ipykernel)",
   "language": "python",
   "name": "python3"
  },
  "language_info": {
   "codemirror_mode": {
    "name": "ipython",
    "version": 3
   },
   "file_extension": ".py",
   "mimetype": "text/x-python",
   "name": "python",
   "nbconvert_exporter": "python",
   "pygments_lexer": "ipython3",
   "version": "3.12.11"
  }
 },
 "nbformat": 4,
 "nbformat_minor": 5
}
