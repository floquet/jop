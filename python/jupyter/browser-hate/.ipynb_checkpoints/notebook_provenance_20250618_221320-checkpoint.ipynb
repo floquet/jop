{
 "cells": [
  {
   "cell_type": "markdown",
   "id": "81df54db",
   "metadata": {},
   "source": [
    "# Provenance Block\n",
    "This notebook records system and environment details."
   ]
  },
  {
   "cell_type": "code",
   "execution_count": null,
   "id": "4aa16258",
   "metadata": {},
   "outputs": [],
   "source": [
    "import os\n",
    "import sys\n",
    "import platform\n",
    "import datetime\n",
    "import pwd\n",
    "from pathlib import Path\n",
    "\n",
    "def pr_provenance():\n",
    "    print(\"\\n\", datetime.datetime.now())\n",
    "    print(\"source:  %s/%s\" % (os.getcwd(), os.path.basename(__file__)))\n",
    "    print(\"user id:\", pwd.getpwuid(os.getuid()).pw_name)\n",
    "    print(\"platform info:\")\n",
    "    print(\"    platform: \", platform.platform())\n",
    "    print(\"    uname:    \", platform.uname())\n",
    "    print(\"version info:\")\n",
    "    print(\"    python:   %s\" % sys.version)\n",
    "    print(\"    platform:\", platform.__version__)\n",
    "    return\n",
    "\n",
    "pr_provenance()\n"
   ]
  }
 ],
 "metadata": {},
 "nbformat": 4,
 "nbformat_minor": 5
}
