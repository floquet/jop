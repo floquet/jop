{
 "cells": [
  {
   "cell_type": "markdown",
   "id": "9dc86347",
   "metadata": {},
   "source": [
    "# Provenance Block\n",
    "This notebook records system and environment details."
   ]
  },
  {
   "cell_type": "code",
   "execution_count": 1,
   "id": "99e8406b",
   "metadata": {},
   "outputs": [
    {
     "name": "stdout",
     "output_type": "stream",
     "text": [
      "=== BASIC PROVENANCE ===\n",
      "Timestamp: 2025-06-18 22:38:23\n",
      "User: dantopa\n",
      "Notebook location: /Users/dantopa/repos-xiuhcoatl/github/jop/python/jupyter/browser-hate\n",
      "\n",
      "=== SYSTEM ===\n",
      "OS: Darwin 24.5.0\n",
      "Machine: x86_64\n",
      "Processor: i386\n",
      "\n",
      "=== PYTHON ===\n",
      "• Version: 3.12.11\n",
      "• Executable: /opt/local/Library/Frameworks/Python.framework/Versions/3.12/bin/python3.12\n",
      "• Implementation: CPython\n"
     ]
    }
   ],
   "source": [
    "import os\n",
    "import sys\n",
    "import platform\n",
    "import datetime\n",
    "from pathlib import Path\n",
    "\n",
    "# Get basic info\n",
    "notebook_path = Path.cwd()\n",
    "python_exec = sys.executable\n",
    "current_time = datetime.datetime.now().strftime(\"%Y-%m-%d %H:%M:%S\")\n",
    "user = os.getlogin()\n",
    "\n",
    "# Print raw output\n",
    "print(\"=== BASIC PROVENANCE ===\")\n",
    "print(f\"Timestamp: {current_time}\")\n",
    "print(f\"User: {user}\")\n",
    "print(f\"Notebook location: {notebook_path}\")\n",
    "\n",
    "print(\"\\n=== SYSTEM ===\")\n",
    "print(f\"OS: {platform.system()} {platform.release()}\")\n",
    "print(f\"Machine: {platform.machine()}\")\n",
    "print(f\"Processor: {platform.processor()}\")\n",
    "\n",
    "print(\"\\n=== PYTHON ===\")\n",
    "print(f\"• Version: {platform.python_version()}\")\n",
    "print(f\"• Executable: {sys.executable}\")\n",
    "print(f\"• Implementation: {platform.python_implementation()}\")\n"
   ]
  },
  {
   "cell_type": "markdown",
   "id": "75cfe044",
   "metadata": {},
   "source": [
    "# Satellite Data Acquisition Guide\n",
    "## Step 1: Locate the Data Source\n",
    "1. Visit the RBSP-ECT data portal:  \n",
    "[https://rbsp-ect.newmexicoconsortium.org/rbsp_ect.php](https://rbsp-ect.newmexicoconsortium.org/rbsp_ect.php)\n",
    "\n",
    "2. Click on **RBSP-A** spacecraft data:  \n",
    "[Direct link](https://rbsp-ect.newmexicoconsortium.org/data_pub/rbspa/ECT/level2/)\n",
    "\n",
    "## Step 2: Select Year\n",
    "Choose 2018 data:  \n",
    "[https://rbsp-ect.newmexicoconsortium.org/data_pub/rbspa/ECT/level2/2018/](https://rbsp-ect.newmexicoconsortium.org/data_pub/rbspa/ECT/level2/2018/)\n",
    "\n",
    "## Step 3: Download Sample File\n",
    "Download this sample CDF file (January 1, 2018):  \n",
    "[rbspa_ect-elec-L2_20180101_v2.1.0.cdf](https://rbsp-ect.newmexicoconsortium.org/data_pub/rbspa/ECT/level2/2018/rbspa_ect-elec-L2_20180101_v2.1.0.cdf)\n",
    "\n",
    "## Where to Save\n",
    "Save the file in your notebook's data directory:  \n",
    "`/path/to/your/notebook/data/`  \n",
    "_(Use the exact path shown in your Provenance output)_\n",
    "\n",
    "## Advanced: Download with wget\n",
    "\n",
    "```bash\n",
    "wget -P data/ https://rbsp-ect.newmexicoconsortium.org/data_pub/rbspa/ECT/level2/2018/rbspa_ect-elec-L2_20180101_v2.1.0.cdf\n",
    "```"
   ]
  },
  {
   "cell_type": "markdown",
   "id": "366de74e",
   "metadata": {},
   "source": [
    "# === CDF EXPLORATION ===\n",
    "_Section begins here._"
   ]
  },
  {
   "cell_type": "markdown",
   "id": "1d37cc34",
   "metadata": {},
   "source": [
    "# CDF File Exploration Notebook\n",
    "This notebook uses [`cdflib`](https://cdflib.readthedocs.io/) to explore NASA Common Data Format (.CDF) files.\n",
    "\n",
    "## Features\n",
    "- Lists all variables (`rVariables` and `zVariables`)\n",
    "- Prints global and variable-specific attributes\n",
    "- Shows data previews with shape and value summaries\n",
    "\n",
    "## How It Works\n",
    "We open the CDF using `cdflib.CDF(my_file)` and inspect its structure via `cdf_info()`, `globalattsget()`, `varinq()`, `varget()`, and `varattsget()`.\n",
    "Each variable's shape and first few values are displayed. Variable attributes are printed. This helps you explore space weather data interactively and understand its layout before analysis."
   ]
  },
  {
   "cell_type": "code",
   "execution_count": 4,
   "id": "79804424",
   "metadata": {},
   "outputs": [
    {
     "name": "stdout",
     "output_type": "stream",
     "text": [
      "Using CDF file: data/rbspa_ect-elec-L2_20180101_v2.1.0.cdf\n",
      "File not found. Please download it first and place it in the 'data/' directory.\n"
     ]
    },
    {
     "ename": "NameError",
     "evalue": "name 'info' is not defined",
     "output_type": "error",
     "traceback": [
      "\u001b[0;31m---------------------------------------------------------------------------\u001b[0m",
      "\u001b[0;31mNameError\u001b[0m                                 Traceback (most recent call last)",
      "Cell \u001b[0;32mIn[4], line 21\u001b[0m\n\u001b[1;32m     18\u001b[0m     \u001b[38;5;28mprint\u001b[39m(\u001b[38;5;124mf\u001b[39m\u001b[38;5;124m\"\u001b[39m\u001b[38;5;124mEncoding (Endianness): \u001b[39m\u001b[38;5;132;01m{\u001b[39;00minfo\u001b[38;5;241m.\u001b[39mEncoding\u001b[38;5;132;01m}\u001b[39;00m\u001b[38;5;124m\"\u001b[39m)\n\u001b[1;32m     19\u001b[0m     \u001b[38;5;28mprint\u001b[39m(\u001b[38;5;124mf\u001b[39m\u001b[38;5;124m\"\u001b[39m\u001b[38;5;124mMajority (Storage Order): \u001b[39m\u001b[38;5;132;01m{\u001b[39;00minfo\u001b[38;5;241m.\u001b[39mMajority\u001b[38;5;132;01m}\u001b[39;00m\u001b[38;5;124m\"\u001b[39m)\n\u001b[0;32m---> 21\u001b[0m \u001b[38;5;28;01mif\u001b[39;00m \u001b[43minfo\u001b[49m\u001b[38;5;241m.\u001b[39mNum_rdim \u001b[38;5;241m>\u001b[39m \u001b[38;5;241m0\u001b[39m:\n\u001b[1;32m     22\u001b[0m     \u001b[38;5;28mprint\u001b[39m(\u001b[38;5;124mf\u001b[39m\u001b[38;5;124m\"\u001b[39m\u001b[38;5;124mNumber of rDimensions: \u001b[39m\u001b[38;5;132;01m{\u001b[39;00minfo\u001b[38;5;241m.\u001b[39mNum_rdim\u001b[38;5;132;01m}\u001b[39;00m\u001b[38;5;124m\"\u001b[39m)\n\u001b[1;32m     23\u001b[0m     \u001b[38;5;28mprint\u001b[39m(\u001b[38;5;124mf\u001b[39m\u001b[38;5;124m\"\u001b[39m\u001b[38;5;124mrDimension sizes: \u001b[39m\u001b[38;5;132;01m{\u001b[39;00minfo\u001b[38;5;241m.\u001b[39mrDim_sizes\u001b[38;5;132;01m}\u001b[39;00m\u001b[38;5;124m\"\u001b[39m)\n",
      "\u001b[0;31mNameError\u001b[0m: name 'info' is not defined"
     ]
    }
   ],
   "source": [
    "import cdflib\n",
    "import numpy as np\n",
    "from pathlib import Path\n",
    "\n",
    "# Define the file path — must match the name shown in the download instructions\n",
    "my_file = Path(\"data/rbspa_ect-elec-L2_20180101_v2.1.0.cdf\")\n",
    "print(\"Using CDF file:\", my_file)\n",
    "\n",
    "if not my_file.is_file():\n",
    "    print(\"File not found. Please download it and place it in the 'data/' directory.\")\n",
    "else:\n",
    "    cdf_file = cdflib.CDF(my_file)\n",
    "    info = cdf_file.cdf_info()\n",
    "\n",
    "    print(\"** CDF File Information **\")\n",
    "    print(f\"File path: {info.CDF}\")\n",
    "    print(f\"CDF Format Version: {info.Version}\")\n",
    "    print(f\"Encoding (Endianness): {info.Encoding}\")\n",
    "    print(f\"Majority (Storage Order): {info.Majority}\")\n",
    "\n",
    "    if info.Num_rdim > 0:\n",
    "        print(f\"Number of rDimensions: {info.Num_rdim}\")\n",
    "        print(f\"rDimension sizes: {info.rDim_sizes}\")\n",
    "    else:\n",
    "        print(\"Number of rDimensions: 0\")\n",
    "\n",
    "rvars = info.rVariables\n",
    "zvars = info.zVariables\n",
    "print(\"\\n** Variables **\")\n",
    "print(f\"rVariables: {rvars if rvars else 'None'}\")\n",
    "print(f\"zVariables: {zvars if zvars else 'None'}\")\n",
    "\n",
    "global_attrs = cdf_file.globalattsget()\n",
    "print(\"\\n** Global Attributes **\")\n",
    "for attr, entries in global_attrs.items():\n",
    "    if isinstance(entries, dict):\n",
    "        print(f\"- {attr}:\")\n",
    "        for i, val in entries.items():\n",
    "            print(f\"    Entry {i}: {val}\")\n",
    "    else:\n",
    "        print(f\"- {attr}: {entries}\")\n",
    "\n",
    "all_vars = list(rvars) + list(zvars)\n",
    "for var_name in all_vars:\n",
    "    print(f\"\\n** Variable: {var_name} **\")\n",
    "    try:\n",
    "        var_info = cdf_file.varinq(var_name)\n",
    "        rec_vary = bool(var_info.Rec_Vary)\n",
    "        dim_sizes = var_info.Dim_Sizes or []\n",
    "        num_dims = var_info.Num_Dims\n",
    "        if rec_vary:\n",
    "            n_records = var_info.Last_Rec + 1\n",
    "        else:\n",
    "            n_records = 1\n",
    "        if rec_vary and num_dims > 0:\n",
    "            shape = (n_records, *dim_sizes)\n",
    "        elif rec_vary:\n",
    "            shape = (n_records,)\n",
    "        else:\n",
    "            shape = tuple(dim_sizes)\n",
    "        print(f\"Shape: {shape}\" if shape else \"Shape: scalar\")\n",
    "\n",
    "        if rec_vary:\n",
    "            end_rec = min(var_info.Last_Rec, 4)\n",
    "            data_preview = cdf_file.varget(var_name, startrec=0, endrec=end_rec)\n",
    "        else:\n",
    "            data_preview = cdf_file.varget(var_name)\n",
    "    except Exception as e:\n",
    "        data_preview = None\n",
    "        print(f\"Data: [Error reading: {e}]\")\n",
    "\n",
    "    if data_preview is None:\n",
    "        print(\"First values: None\")\n",
    "    else:\n",
    "        data_array = np.array(data_preview)\n",
    "        snippet = data_array.flatten()[:5] if data_array.size > 10 else data_array\n",
    "        print(f\"Values: {snippet}\")\n",
    "\n",
    "    var_attrs = cdf_file.varattsget(var_name)\n",
    "    if var_attrs:\n",
    "        print(\"Attributes:\")\n",
    "        for attr, val in var_attrs.items():\n",
    "            print(f\"  - {attr}: {val}\")\n",
    "    else:\n",
    "        print(\"Attributes: (none)\")\n"
   ]
  },
  {
   "cell_type": "markdown",
   "id": "af032ee3",
   "metadata": {},
   "source": [
    "# === BASIC PLOTS ===\n",
    "_Section begins here._"
   ]
  },
  {
   "cell_type": "markdown",
   "id": "caebf0d6",
   "metadata": {},
   "source": [
    "# === ORBITAL MECHANICS ===\n",
    "_Section begins here._"
   ]
  }
 ],
 "metadata": {
  "kernelspec": {
   "display_name": "Python 3 (ipykernel)",
   "language": "python",
   "name": "python3"
  },
  "language_info": {
   "codemirror_mode": {
    "name": "ipython",
    "version": 3
   },
   "file_extension": ".py",
   "mimetype": "text/x-python",
   "name": "python",
   "nbconvert_exporter": "python",
   "pygments_lexer": "ipython3",
   "version": "3.12.11"
  }
 },
 "nbformat": 4,
 "nbformat_minor": 5
}
