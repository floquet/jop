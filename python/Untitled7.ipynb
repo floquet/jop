{
 "cells": [
  {
   "cell_type": "markdown",
   "id": "aff20a2f-a599-4e12-b148-6d24df24f1ed",
   "metadata": {},
   "source": [
    "Satellite Data Acquisition Guide\n",
    "Step 1: Locate the Data Source\n",
    "\n",
    "    Visit the RBSP-ECT data portal:\n",
    "    https://rbsp-ect.newmexicoconsortium.org/rbsp_ect.php\n",
    "\n",
    "    Click on RBSP-A spacecraft data:\n",
    "    Direct link\n",
    "\n",
    "Step 2: Select Year\n",
    "\n",
    "Choose 2018 data:\n",
    "https://rbsp-ect.newmexicoconsortium.org/data_pub/rbspa/ECT/level2/2018/\n",
    "Step 3: Download Sample File\n",
    "\n",
    "Download this sample CDF file (January 1, 2018):\n",
    "rbspa_ect-elec-L2_20180101_v2.1.0.cdf\n",
    "Where to Save\n",
    "\n",
    "Save the file in your notebook's data directory:\n",
    "/path/to/your/notebook/data/\n",
    "(Use the exact path shown in your Provenance output)\n",
    "\n",
    "    ℹ️ Tip: Create a data subfolder if it doesn't exist.\n",
    "\n",
    "Advanced\n",
    "\n",
    "wget -P data/ https://rbsp-ect.newmexicoconsortium.org/data_pub/rbspa/ECT/level2/2018/rbspa_ect-elec-L2_20180101_v2.1.0.cdf"
   ]
  }
 ],
 "metadata": {
  "kernelspec": {
   "display_name": "Python 3 (ipykernel)",
   "language": "python",
   "name": "python3"
  },
  "language_info": {
   "codemirror_mode": {
    "name": "ipython",
    "version": 3
   },
   "file_extension": ".py",
   "mimetype": "text/x-python",
   "name": "python",
   "nbconvert_exporter": "python",
   "pygments_lexer": "ipython3",
   "version": "3.12.11"
  }
 },
 "nbformat": 4,
 "nbformat_minor": 5
}
