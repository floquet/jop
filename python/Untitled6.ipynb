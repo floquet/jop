{
 "cells": [
  {
   "cell_type": "markdown",
   "id": "55ea3f4e-0f9b-49c0-b291-1c28dd674ae2",
   "metadata": {},
   "source": [
    "## Provenance\n",
    "*Execution environment documentation*"
   ]
  },
  {
   "cell_type": "code",
   "execution_count": 4,
   "id": "098006cd-3d28-42c0-94ab-a6d563066935",
   "metadata": {},
   "outputs": [
    {
     "name": "stdout",
     "output_type": "stream",
     "text": [
      "=== BASIC PROVENANCE ===\n",
      "Timestamp: 2025-06-18 15:31:46\n",
      "User: dantopa\n",
      "Notebook location: /Users/dantopa/repos-xiuhcoatl/github/jop/python\n",
      "\n",
      "=== SYSTEM ===\n",
      "OS: Darwin 24.5.0\n",
      "Machine: x86_64\n",
      "Processor: i386\n",
      "\n",
      "=== PYTHON ===\n",
      "• Version: 3.12.11\n",
      "• Executable: /opt/local/Library/Frameworks/Python.framework/Versions/3.12/bin/python3.12\n",
      "• Implementation: CPython\n"
     ]
    }
   ],
   "source": [
    "import os\n",
    "import sys\n",
    "import platform\n",
    "import datetime\n",
    "from pathlib import Path\n",
    "\n",
    "# Get basic info\n",
    "notebook_path = Path.cwd()\n",
    "python_exec = sys.executable\n",
    "current_time = datetime.datetime.now().strftime(\"%Y-%m-%d %H:%M:%S\")\n",
    "user = os.getlogin()\n",
    "\n",
    "# Print raw output\n",
    "print(\"=== BASIC PROVENANCE ===\")\n",
    "print(f\"Timestamp: {current_time}\")\n",
    "print(f\"User: {user}\")\n",
    "print(f\"Notebook location: {notebook_path}\")\n",
    "print(\"\\n=== SYSTEM ===\")\n",
    "print(f\"OS: {platform.system()} {platform.release()}\")\n",
    "print(f\"Machine: {platform.machine()}\")\n",
    "print(f\"Processor: {platform.processor()}\")\n",
    "print(\"\\n=== PYTHON ===\")\n",
    "print(f\"• Version: {platform.python_version()}\")\n",
    "print(f\"• Executable: {sys.executable}\")\n",
    "print(f\"• Implementation: {platform.python_implementation()}\")"
   ]
  },
  {
   "cell_type": "code",
   "execution_count": null,
   "id": "552ced0d-3aab-40a3-b2ee-eced63b366f1",
   "metadata": {},
   "outputs": [],
   "source": []
  }
 ],
 "metadata": {
  "kernelspec": {
   "display_name": "Python 3 (ipykernel)",
   "language": "python",
   "name": "python3"
  },
  "language_info": {
   "codemirror_mode": {
    "name": "ipython",
    "version": 3
   },
   "file_extension": ".py",
   "mimetype": "text/x-python",
   "name": "python",
   "nbconvert_exporter": "python",
   "pygments_lexer": "ipython3",
   "version": "3.12.11"
  }
 },
 "nbformat": 4,
 "nbformat_minor": 5
}
