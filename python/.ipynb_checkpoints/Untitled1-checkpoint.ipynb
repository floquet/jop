{
 "cells": [
  {
   "cell_type": "code",
   "execution_count": 1,
   "id": "a889bb8a-7342-49ac-b838-6a402d51c722",
   "metadata": {},
   "outputs": [
    {
     "name": "stdout",
     "output_type": "stream",
     "text": [
      "/opt/local/Library/Frameworks/Python.framework/Versions/3.12/bin/python3.12\n"
     ]
    }
   ],
   "source": [
    "import sys\n",
    "print(sys.executable)"
   ]
  },
  {
   "cell_type": "code",
   "execution_count": 2,
   "id": "62e92d23-99fe-4b82-93d7-8bc454a3dbec",
   "metadata": {},
   "outputs": [
    {
     "name": "stdout",
     "output_type": "stream",
     "text": [
      "/Users/dantopa/Mathematica_files/io/projects/hii-tsd/satellite/ecs/rbsp/data/rbspa_rel03_ect-rept-sci-L3_20170207_v5.1.0.cdf\n"
     ]
    }
   ],
   "source": [
    "from pathlib import Path\n",
    "\n",
    "# Define directory and file components\n",
    "dir_data = Path(\"/Users/dantopa/Mathematica_files/io/projects/hii-tsd/satellite/ecs/rbsp/data\")\n",
    "file_name_left = \"rbspa_rel03_ect-rept-sci-L3_\"\n",
    "file_name_right = \".cdf\"\n",
    "\n",
    "# List of specific data days\n",
    "days = [\n",
    "    \"20170207_v5.1.0\",\n",
    "    \"20170425_v5.5.0\",\n",
    "    \"20170620_v5.3.0\",\n",
    "    \"20170917_v5.3.0\",\n",
    "    \"20171214_v5.3.0\"\n",
    "]\n",
    "\n",
    "# Pick one file\n",
    "my_file = dir_data / f\"{file_name_left}{days[0]}{file_name_right}\"\n",
    "print(my_file)\n"
   ]
  },
  {
   "cell_type": "code",
   "execution_count": 5,
   "id": "374bae27-d073-4905-9e9d-3eba3b8223b0",
   "metadata": {},
   "outputs": [
    {
     "name": "stdout",
     "output_type": "stream",
     "text": [
      "Variables in file: []\n"
     ]
    },
    {
     "ename": "IndexError",
     "evalue": "list index out of range",
     "output_type": "error",
     "traceback": [
      "\u001b[0;31m---------------------------------------------------------------------------\u001b[0m",
      "\u001b[0;31mIndexError\u001b[0m                                Traceback (most recent call last)",
      "Cell \u001b[0;32mIn[5], line 12\u001b[0m\n\u001b[1;32m      9\u001b[0m \u001b[38;5;28mprint\u001b[39m(\u001b[38;5;124m\"\u001b[39m\u001b[38;5;124mVariables in file:\u001b[39m\u001b[38;5;124m\"\u001b[39m, \u001b[38;5;28mvars\u001b[39m)\n\u001b[1;32m     11\u001b[0m \u001b[38;5;66;03m# Read one variable\u001b[39;00m\n\u001b[0;32m---> 12\u001b[0m varname \u001b[38;5;241m=\u001b[39m \u001b[38;5;28;43mvars\u001b[39;49m\u001b[43m[\u001b[49m\u001b[38;5;241;43m0\u001b[39;49m\u001b[43m]\u001b[49m  \u001b[38;5;66;03m# or pick one by name\u001b[39;00m\n\u001b[1;32m     13\u001b[0m data \u001b[38;5;241m=\u001b[39m cdf\u001b[38;5;241m.\u001b[39mvarget(varname)\n\u001b[1;32m     15\u001b[0m \u001b[38;5;28mprint\u001b[39m(\u001b[38;5;124mf\u001b[39m\u001b[38;5;124m\"\u001b[39m\u001b[38;5;130;01m\\n\u001b[39;00m\u001b[38;5;124mVariable: \u001b[39m\u001b[38;5;132;01m{\u001b[39;00mvarname\u001b[38;5;132;01m}\u001b[39;00m\u001b[38;5;124m\"\u001b[39m)\n",
      "\u001b[0;31mIndexError\u001b[0m: list index out of range"
     ]
    }
   ],
   "source": [
    "import cdflib\n",
    "\n",
    "# Open the file\n",
    "cdf = cdflib.CDF(str(my_file))\n",
    "\n",
    "# List all variable names\n",
    "info = cdf.cdf_info()\n",
    "\n",
    "print(\"Regular variables:\", info.rVariables)\n",
    "print(\"ZVariables:\", info.zVariables)\n",
    "print(\"Attributes:\", info.attrs)\n",
    "\n",
    "vars = info.rVariables\n",
    "print(\"Variables in file:\", vars)\n",
    "\n",
    "# Read one variable\n",
    "varname = vars[0]  # or pick one by name\n",
    "data = cdf.varget(varname)\n",
    "\n",
    "print(f\"\\nVariable: {varname}\")\n",
    "print(\"Data shape:\", len(data) if hasattr(data, \"__len__\") else \"scalar\")\n",
    "print(\"Sample data:\", data[:5])\n"
   ]
  },
  {
   "cell_type": "code",
   "execution_count": 3,
   "id": "7cb4389e-7d17-4a52-bfe7-c5e0e94b54df",
   "metadata": {},
   "outputs": [
    {
     "name": "stdout",
     "output_type": "stream",
     "text": [
      "\n",
      " 2025-06-18 10:49:01.855104\n",
      "source:  /Users/dantopa/repos-xiuhcoatl/github/jop/python\n",
      "user id: dantopa\n",
      "platform info:\n",
      "    platform:  macOS-15.5-x86_64-i386-64bit\n",
      "    uname:     uname_result(system='Darwin', node='Xiuhcoatl', release='24.5.0', version='Darwin Kernel Version 24.5.0: Tue Apr 22 19:53:26 PDT 2025; root:xnu-11417.121.6~2/RELEASE_X86_64', machine='x86_64')\n",
      "version info:\n",
      "    python:   3.12.11 (main, Jun  6 2025, 23:18:08) [Clang 16.0.0 (clang-1600.0.26.6)]\n"
     ]
    }
   ],
   "source": [
    "import os\n",
    "import pwd\n",
    "import platform\n",
    "import sys\n",
    "import datetime\n",
    "\n",
    "def pr_provenance():\n",
    "    print(\"\\n\", datetime.datetime.now())\n",
    "    print(\"source:  %s\" % os.getcwd())  # __file__ isn't defined in Jupyter\n",
    "    print(\"user id:\", pwd.getpwuid(os.getuid()).pw_name)\n",
    "    print(\"platform info:\")\n",
    "    print(\"    platform: \", platform.platform())\n",
    "    print(\"    uname:    \", platform.uname())\n",
    "    print(\"version info:\")\n",
    "    print(\"    python:   %s\" % sys.version)\n",
    "\n",
    "pr_provenance()"
   ]
  }
 ],
 "metadata": {
  "kernelspec": {
   "display_name": "Python 3 (ipykernel)",
   "language": "python",
   "name": "python3"
  },
  "language_info": {
   "codemirror_mode": {
    "name": "ipython",
    "version": 3
   },
   "file_extension": ".py",
   "mimetype": "text/x-python",
   "name": "python",
   "nbconvert_exporter": "python",
   "pygments_lexer": "ipython3",
   "version": "3.12.11"
  }
 },
 "nbformat": 4,
 "nbformat_minor": 5
}
