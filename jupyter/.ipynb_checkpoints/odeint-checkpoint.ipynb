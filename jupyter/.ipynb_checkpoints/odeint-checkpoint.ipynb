{
 "cells": [
  {
   "cell_type": "markdown",
   "id": "7232f82a",
   "metadata": {},
   "source": [
    "# Python for Scientists\n",
    "## 7. Ordinary Differential Equations\n",
    "### 7.1 Initial Value Problems"
   ]
  },
  {
   "cell_type": "markdown",
   "id": "ecad0b08",
   "metadata": {},
   "source": [
    "Anonymous lambda function generates f( y, t ) = y"
   ]
  },
  {
   "cell_type": "code",
   "execution_count": 3,
   "id": "9ab7fcba",
   "metadata": {},
   "outputs": [
    {
     "name": "stdout",
     "output_type": "stream",
     "text": [
      "Defaulting to user installation because normal site-packages is not writeable\n",
      "Collecting scipy\n",
      "  Downloading scipy-1.11.4-cp39-cp39-macosx_10_9_x86_64.whl.metadata (60 kB)\n",
      "\u001b[2K     \u001b[90m━━━━━━━━━━━━━━━━━━━━━━━━━━━━━━━━━━━━━━━━\u001b[0m \u001b[32m60.4/60.4 kB\u001b[0m \u001b[31m1.0 MB/s\u001b[0m eta \u001b[36m0:00:00\u001b[0ma \u001b[36m0:00:01\u001b[0m\n",
      "\u001b[?25hRequirement already satisfied: numpy<1.28.0,>=1.21.6 in /Users/dantopa/Library/Python/3.9/lib/python/site-packages (from scipy) (1.26.2)\n",
      "Downloading scipy-1.11.4-cp39-cp39-macosx_10_9_x86_64.whl (37.3 MB)\n",
      "\u001b[2K   \u001b[90m━━━━━━━━━━━━━━━━━━━━━━━━━━━━━━━━━━━━━━━━\u001b[0m \u001b[32m37.3/37.3 MB\u001b[0m \u001b[31m29.2 MB/s\u001b[0m eta \u001b[36m0:00:00\u001b[0m00:01\u001b[0m00:01\u001b[0m\n",
      "\u001b[?25hInstalling collected packages: scipy\n",
      "Successfully installed scipy-1.11.4\n"
     ]
    },
    {
     "data": {
      "text/plain": [
       "array([[1.        ],\n",
       "       [2.71828193]])"
      ]
     },
     "execution_count": 3,
     "metadata": {},
     "output_type": "execute_result"
    }
   ],
   "source": [
    "import numpy as np\n",
    "import sys\n",
    "!{sys.executable} -m pip install scipy\n",
    "!{sys.executable} -m pip install matplotlib\n",
    "from scipy.integrate import odeint\n",
    "odeint( lambda y, t:y, 1, [0, 1] )"
   ]
  },
  {
   "cell_type": "markdown",
   "id": "ae0dce26",
   "metadata": {},
   "source": [
    "Harmonic motion"
   ]
  },
  {
   "cell_type": "code",
   "execution_count": 4,
   "id": "3ca313eb",
   "metadata": {},
   "outputs": [
    {
     "ename": "ModuleNotFoundError",
     "evalue": "No module named 'matplotlib'",
     "output_type": "error",
     "traceback": [
      "\u001b[0;31m---------------------------------------------------------------------------\u001b[0m",
      "\u001b[0;31mModuleNotFoundError\u001b[0m                       Traceback (most recent call last)",
      "Cell \u001b[0;32mIn[4], line 2\u001b[0m\n\u001b[1;32m      1\u001b[0m \u001b[38;5;28;01mimport\u001b[39;00m \u001b[38;5;21;01mnumpy\u001b[39;00m \u001b[38;5;28;01mas\u001b[39;00m \u001b[38;5;21;01mnp\u001b[39;00m\n\u001b[0;32m----> 2\u001b[0m \u001b[38;5;28;01mimport\u001b[39;00m \u001b[38;5;21;01mmatplotlib\u001b[39;00m\u001b[38;5;21;01m.\u001b[39;00m\u001b[38;5;21;01mpyplot\u001b[39;00m \u001b[38;5;28;01mas\u001b[39;00m \u001b[38;5;21;01mplt\u001b[39;00m\n\u001b[1;32m      3\u001b[0m \u001b[38;5;28;01mfrom\u001b[39;00m \u001b[38;5;21;01mscipy\u001b[39;00m\u001b[38;5;21;01m.\u001b[39;00m\u001b[38;5;21;01mintegrate\u001b[39;00m \u001b[38;5;28;01mimport\u001b[39;00m odeint\n\u001b[1;32m      5\u001b[0m \u001b[38;5;28;01mdef\u001b[39;00m \u001b[38;5;21mrhs\u001b[39m( Y, t, omega ):\n",
      "\u001b[0;31mModuleNotFoundError\u001b[0m: No module named 'matplotlib'"
     ]
    }
   ],
   "source": [
    "import numpy as np\n",
    "import matplotlib.pyplot as plt\n",
    "from scipy.integrate import odeint\n",
    "\n",
    "def rhs( Y, t, omega ):\n",
    "    y, ydot = Y\n",
    "    return ydot, -omega**2 * y\n",
    "\n",
    "t_arr = np.linspace( 0, 2 * np.pi, 101 )\n",
    "y_init = [ 1, 0 ]\n",
    "omega = 2.0\n",
    "y_arr = odeint( rhs, y_init, t_arr, args = ( omega, ) )\n",
    "y, ydot = y_arr[ :, 0 ], y_arr[ :, 1 ]\n",
    "\n",
    "plt.ion( )\n",
    "plt.plot( t_arr, y, t_arr, ydot )"
   ]
  },
  {
   "cell_type": "markdown",
   "id": "620e3c0d",
   "metadata": {},
   "source": [
    "Phase plane portrait for autonomous system"
   ]
  },
  {
   "cell_type": "code",
   "execution_count": null,
   "id": "c915bf84",
   "metadata": {},
   "outputs": [],
   "source": [
    "plt.figure( ) # tabula rasa\n",
    "plt.plot( y, ydot )\n",
    "plt.title( \"Phase portrait when omega = %5g\" % omega )"
   ]
  },
  {
   "cell_type": "markdown",
   "id": "9fbbd108",
   "metadata": {},
   "source": [
    "Enhance the phase plane portrait"
   ]
  },
  {
   "cell_type": "code",
   "execution_count": null,
   "id": "3a239b65",
   "metadata": {},
   "outputs": [],
   "source": [
    "plt.figure( )\n",
    "y, ydot = np.mgrid[ -3 : 3 : 21j, -6 : 6 : 21j ]\n",
    "u, v = rhs( np.array( [ y, ydot ] ), 0.0, omega )\n",
    "mag = np.hypot( u, v )\n",
    "mag[ mag == 0 ] = 1.0\n",
    "plt.quiver( y, ydot, u / mag, v / mag, color = 'red' )"
   ]
  },
  {
   "cell_type": "code",
   "execution_count": null,
   "id": "48c2c2d6",
   "metadata": {},
   "outputs": [],
   "source": [
    "##pwd"
   ]
  },
  {
   "cell_type": "code",
   "execution_count": null,
   "id": "3873f64a",
   "metadata": {},
   "outputs": [],
   "source": [
    "%pwd"
   ]
  },
  {
   "cell_type": "code",
   "execution_count": null,
   "id": "a742a612",
   "metadata": {},
   "outputs": [],
   "source": []
  }
 ],
 "metadata": {
  "kernelspec": {
   "display_name": "Python 3 (ipykernel)",
   "language": "python",
   "name": "python3"
  },
  "language_info": {
   "codemirror_mode": {
    "name": "ipython",
    "version": 3
   },
   "file_extension": ".py",
   "mimetype": "text/x-python",
   "name": "python",
   "nbconvert_exporter": "python",
   "pygments_lexer": "ipython3",
   "version": "3.9.6"
  }
 },
 "nbformat": 4,
 "nbformat_minor": 5
}
