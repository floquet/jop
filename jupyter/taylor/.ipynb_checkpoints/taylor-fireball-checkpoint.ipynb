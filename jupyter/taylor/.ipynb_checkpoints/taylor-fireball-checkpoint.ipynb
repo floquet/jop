{
 "cells": [
  {
   "cell_type": "code",
   "execution_count": 1,
   "id": "2de25e58-2994-4872-8496-b47730a7627f",
   "metadata": {},
   "outputs": [],
   "source": [
    "#! /opt/local/bin/python\n",
    "#! /home/dantopa/spacktivity/ubuntu-22.04-dantopa-docker-spack/opt/spack/linux-ubuntu22.04-haswell/gcc-12.2.0/python-3.10.6-ybcookynohghdr6i72gwalqle6hq27z5/bin/python\n",
    "# Solving Bevington example 6.1 with Python\n",
    "import datetime             # timestamps\n",
    "import math\t\t\t\t\t# pi\n",
    "import numpy as np \t\t\t# array operations\n",
    "import os                   # opeating system\n",
    "import sys                  # python version"
   ]
  },
  {
   "cell_type": "code",
   "execution_count": null,
   "id": "72059d75-9852-4356-8593-8d30bdf2033a",
   "metadata": {},
   "outputs": [],
   "source": []
  }
 ],
 "metadata": {
  "kernelspec": {
   "display_name": "Python 3 (ipykernel)",
   "language": "python",
   "name": "python3"
  },
  "language_info": {
   "codemirror_mode": {
    "name": "ipython",
    "version": 3
   },
   "file_extension": ".py",
   "mimetype": "text/x-python",
   "name": "python",
   "nbconvert_exporter": "python",
   "pygments_lexer": "ipython3",
   "version": "3.9.6"
  }
 },
 "nbformat": 4,
 "nbformat_minor": 5
}
