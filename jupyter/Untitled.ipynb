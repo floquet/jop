{
 "cells": [
  {
   "cell_type": "markdown",
   "id": "b8784999-2fbe-425f-a8e8-8f762689731d",
   "metadata": {},
   "source": [
    "![My image](/Volumes/T7-Touch/repos/github/jop/jupyter/taylor/taylor-tab-3.png)"
   ]
  },
  {
   "cell_type": "code",
   "execution_count": null,
   "id": "acda7abf-0db9-4ae7-9079-dfc5568da571",
   "metadata": {},
   "outputs": [],
   "source": []
  },
  {
   "cell_type": "code",
   "execution_count": null,
   "id": "5d299bf8-2786-45d6-9f9e-6f78bf411a9c",
   "metadata": {},
   "outputs": [],
   "source": []
  }
 ],
 "metadata": {
  "kernelspec": {
   "display_name": "Python 3 (ipykernel)",
   "language": "python",
   "name": "python3"
  },
  "language_info": {
   "codemirror_mode": {
    "name": "ipython",
    "version": 3
   },
   "file_extension": ".py",
   "mimetype": "text/x-python",
   "name": "python",
   "nbconvert_exporter": "python",
   "pygments_lexer": "ipython3",
   "version": "3.9.6"
  }
 },
 "nbformat": 4,
 "nbformat_minor": 5
}
